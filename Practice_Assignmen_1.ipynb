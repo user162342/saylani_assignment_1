{
 "cells": [
  {
   "cell_type": "markdown",
   "metadata": {
    "id": "CUdxU51J52Jc"
   },
   "source": [
    "# Topic: print()"
   ]
  },
  {
   "cell_type": "markdown",
   "metadata": {
    "id": "O4XtVMeN52Ji"
   },
   "source": [
    "1) Using the python print function print any string value, integer value, boolean value, float value in single print command"
   ]
  },
  {
   "cell_type": "markdown",
   "metadata": {
    "id": "iNinlTd052Jr"
   },
   "source": [
    "2) Using the python print function print hyphon(-) separated any string value, integer value, boolean value, float value in single print command"
   ]
  },
  {
   "cell_type": "markdown",
   "metadata": {
    "id": "4fNVS99O52Jt"
   },
   "source": [
    "3) Using the python print function print any string value, integer value, boolean value, float value in separate print command.\n",
    "But every value must be space separated and in single line"
   ]
  },
  {
   "cell_type": "markdown",
   "metadata": {
    "id": "akEUFstT52Jv"
   },
   "source": [
    "4) Can a python print function take no value to print???"
   ]
  },
  {
   "cell_type": "markdown",
   "metadata": {
    "id": "vFPOFKW_52Jx"
   },
   "source": [
    "# TOPIC :Variables in Python Operators"
   ]
  },
  {
   "cell_type": "markdown",
   "metadata": {
    "id": "AzBzVODl52Jy"
   },
   "source": [
    "5) One of my friends name is Mr. Ahmed. He is 30 years old.  He is a lawer by profession. He has done his bachelors in law in the year 2005. He is working with a reputable law firm 'The Himalya Associates' in Karachi since 2015.\n",
    "He is a handsome lawer with height of 5.10 feets and weight 70600g. His monthly income is Rs. 200k PKR.\n",
    "\n",
    "Note: Create variables from above text and also assign values from the text.  "
   ]
  },
  {
   "cell_type": "markdown",
   "metadata": {
    "id": "Uaf--v5S52J0"
   },
   "source": [
    "6)How many years has been to Mr. Ahmed after his bachelors degree? Create a variable that hold current year value and then subtract it from his passout year"
   ]
  },
  {
   "cell_type": "markdown",
   "metadata": {
    "id": "SAQtVyvD52J1"
   },
   "source": [
    "7) How many years has Mr. Ahmed been working with law firm 'The Himalya Associates'. Create necesary variables and print the correct number of years in working in the firm"
   ]
  },
  {
   "cell_type": "markdown",
   "metadata": {
    "id": "Gnk1kIUj52J3"
   },
   "source": [
    "8)Convert the monthly income of Mr. Ahmed in dollars.  Create necesary variables and print the income in dollars."
   ]
  },
  {
   "cell_type": "markdown",
   "metadata": {
    "id": "Adx4oblF52J4"
   },
   "source": [
    "9) Check if the income in dollars is a float or integer value. if it is float, re-write the code so that income gets converted in integer. print the income in integer type value"
   ]
  },
  {
   "cell_type": "markdown",
   "metadata": {},
   "source": [
    "10) Print the type of Mr. Ahmed's weight. Convert the weight of Mr. Ahmed in kg so that weight must be a integer value.\n"
   ]
  },
  {
   "cell_type": "markdown",
   "metadata": {
    "id": "eWySSgh552J8"
   },
   "source": [
    "12) Can Rs. 100 be divided equally among 6 students?\n",
    "HINT: % operator (modulo)"
   ]
  },
  {
   "cell_type": "markdown",
   "metadata": {},
   "source": [
    "ANWERS:"
   ]
  },
  {
   "cell_type": "code",
   "execution_count": 43,
   "metadata": {
    "id": "05FU1XHw52J7"
   },
   "outputs": [
    {
     "name": "stdout",
     "output_type": "stream",
     "text": [
      "string:\"string\" -- int:10 -- float:4.347826086956522 -- boolean:True\n"
     ]
    }
   ],
   "source": [
    "# Q1\n",
    "print(f\"{\"string:\"}{'\"string\"'} -- {\"int:\"}{10} -- {\"float:\"}{10/2.3} -- {\"boolean:\"}{10-5==5}\",)"
   ]
  },
  {
   "cell_type": "code",
   "execution_count": 44,
   "metadata": {},
   "outputs": [
    {
     "name": "stdout",
     "output_type": "stream",
     "text": [
      "<class 'bool'> - <class 'str'> - <class 'int'> - <class 'float'>\n"
     ]
    }
   ],
   "source": [
    "# Q2\n",
    "print(type(True), type(\"hi\"), type(5), type(5.01), sep=(\" - \"))"
   ]
  },
  {
   "cell_type": "code",
   "execution_count": 49,
   "metadata": {},
   "outputs": [
    {
     "name": "stdout",
     "output_type": "stream",
     "text": [
      "Hi - True - 4 - 2.3\n"
     ]
    }
   ],
   "source": [
    "# Q3\n",
    "print(\"Hi\", end=\" - \")\n",
    "print(True, end=\" - \")\n",
    "print(4, end=\" - \")\n",
    "print(2.3)"
   ]
  },
  {
   "cell_type": "code",
   "execution_count": 53,
   "metadata": {},
   "outputs": [
    {
     "name": "stdout",
     "output_type": "stream",
     "text": [
      "\n",
      "Ans: Yes it can\n"
     ]
    }
   ],
   "source": [
    "#Q4\n",
    "emptyval = ''\n",
    "print(emptyval)\n",
    "print(\"Ans: Yes it can\")\n",
    "bachelorDoneInYear = 2005"
   ]
  },
  {
   "cell_type": "code",
   "execution_count": 41,
   "metadata": {},
   "outputs": [],
   "source": [
    "#Q5\n",
    "friendsName = \"Ahmed\"\n",
    "friendsAge = 30\n",
    "friendsProffesion = \"lawyer\"\n",
    "gotachelorDegree = 2005\n",
    "workingWithFirm = \"The Himalya Associates\"\n",
    "workingWhere = \"Karachi\"\n",
    "workingSince = 2015\n",
    "height = 5.10\n",
    "weightInGrams = 70600\n",
    "monthlyIncome = 200000\n",
    "currentYear = 2024\n"
   ]
  },
  {
   "cell_type": "code",
   "execution_count": 7,
   "metadata": {},
   "outputs": [
    {
     "name": "stdout",
     "output_type": "stream",
     "text": [
      "it has been 19 years\n"
     ]
    }
   ],
   "source": [
    "#Q5\n",
    "print(f\"{\"it has been\" } {currentYear - gotachelorDegree} {\"years\"}\")\n"
   ]
  },
  {
   "cell_type": "code",
   "execution_count": 8,
   "metadata": {},
   "outputs": [
    {
     "name": "stdout",
     "output_type": "stream",
     "text": [
      "Ahmed has been Working with The Himalya Associates in Karachi since 9 years\n"
     ]
    }
   ],
   "source": [
    "#Q6\n",
    "print(f\"{friendsName + \" has been Working with\"} {workingWithFirm + \" in\"} { workingWhere + \" since\"} {currentYear - workingSince } {\"years\"}\")\n"
   ]
  },
  {
   "cell_type": "code",
   "execution_count": 48,
   "metadata": {},
   "outputs": [
    {
     "name": "stdout",
     "output_type": "stream",
     "text": [
      "Ahmeds monthly salary in dollars is 718.0\n"
     ]
    }
   ],
   "source": [
    "currentRateOfDollar = 278.49\n",
    "result = monthlyIncome // currentRateOfDollar\n",
    "print(\"Ahmeds monthly salary in dollars is \" + str(result))"
   ]
  },
  {
   "cell_type": "code",
   "execution_count": 52,
   "metadata": {},
   "outputs": [
    {
     "name": "stdout",
     "output_type": "stream",
     "text": [
      "<class 'float'>\n",
      "<class 'int'>\n"
     ]
    }
   ],
   "source": [
    "#Q9\n",
    "print(type(result))\n",
    "print(type(int(result)))"
   ]
  },
  {
   "cell_type": "code",
   "execution_count": 58,
   "metadata": {},
   "outputs": [
    {
     "name": "stdout",
     "output_type": "stream",
     "text": [
      "<class 'int'>\n",
      "<class 'int'>\n"
     ]
    }
   ],
   "source": [
    "#Q10\n",
    "print(type(weightInGrams))\n",
    "gramsIntoKg = 1000\n",
    "weightInKg = weightInGrams / gramsIntoKg      #// can be used to get a number without deciamls\n",
    "print(type(int(weightInKg)))                  #int() function can be also be used to    \n",
    "                                              #convert values in integers"
   ]
  },
  {
   "cell_type": "code",
   "execution_count": 66,
   "metadata": {
    "id": "RYc0Ks7g52J-",
    "outputId": "0e2425ca-fbed-4c24-b659-e52ef2d0674e"
   },
   "outputs": [
    {
     "name": "stdout",
     "output_type": "stream",
     "text": [
      "no 100 rupees cannot be divided equally in 6 students 4 rupees would be left\n"
     ]
    }
   ],
   "source": [
    "res = 100%6\n",
    "print(f\"{\"no 100 rupees cannot be divided equally in 6 students\"} {res} {\"rupees would be left\"}\")\n"
   ]
  }
 ],
 "metadata": {
  "colab": {
   "provenance": []
  },
  "kernelspec": {
   "display_name": "Python 3",
   "language": "python",
   "name": "python3"
  },
  "language_info": {
   "codemirror_mode": {
    "name": "ipython",
    "version": 3
   },
   "file_extension": ".py",
   "mimetype": "text/x-python",
   "name": "python",
   "nbconvert_exporter": "python",
   "pygments_lexer": "ipython3",
   "version": "3.13.0"
  }
 },
 "nbformat": 4,
 "nbformat_minor": 4
}
